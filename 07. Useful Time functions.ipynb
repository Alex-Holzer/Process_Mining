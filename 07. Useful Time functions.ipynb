{
 "cells": [
  {
   "cell_type": "code",
   "execution_count": 4,
   "metadata": {},
   "outputs": [],
   "source": [
    "# add a spark session\n",
    "from pyspark.sql import SparkSession\n",
    "\n",
    "spark = SparkSession.builder.appName(\"example\").getOrCreate()\n",
    "from pyspark.sql import DataFrame\n",
    "from pyspark.sql.functions import col\n",
    "from pyspark.sql.window import Window\n",
    "\n",
    "\n",
    "def calculate_percentage_rank(\n",
    "    df: DataFrame, key_column: str, duration_column: str\n",
    ") -> DataFrame:\n",
    "    \"\"\"\n",
    "    Calculate the percentage rank of the duration column for each key in the DataFrame.\n",
    "\n",
    "    :param df: Input DataFrame containing the data.\n",
    "    :param key_column: Name of the key column (e.g., CASE_KEY).\n",
    "    :param duration_column: Name of the duration column (should be of float type).\n",
    "    :return: DataFrame with an additional column 'Percentage_Rank' indicating the rank of the duration.\n",
    "    \"\"\"\n",
    "    # Window specification for ranking the durations\n",
    "    window_spec = Window.orderBy(col(duration_column))\n",
    "\n",
    "    # Rank the durations (ascending order, lower duration gets higher rank)\n",
    "    df = df.withColumn(\"Duration_Rank\", col(duration_column).asc().over(window_spec))\n",
    "\n",
    "    # Calculate the maximum rank value\n",
    "    max_rank = df.selectExpr(f\"max(Duration_Rank) as max_rank\").collect()[0][\"max_rank\"]\n",
    "\n",
    "    # Calculate percentage rank\n",
    "    df = df.withColumn(\n",
    "        \"Percentage_Rank\",\n",
    "        100 * (1 - ((col(duration_column).desc().over(window_spec)) / max_rank)),\n",
    "    )\n",
    "\n",
    "    return df"
   ]
  }
 ],
 "metadata": {
  "kernelspec": {
   "display_name": "Python 3",
   "language": "python",
   "name": "python3"
  },
  "language_info": {
   "codemirror_mode": {
    "name": "ipython",
    "version": 3
   },
   "file_extension": ".py",
   "mimetype": "text/x-python",
   "name": "python",
   "nbconvert_exporter": "python",
   "pygments_lexer": "ipython3",
   "version": "3.9.12"
  }
 },
 "nbformat": 4,
 "nbformat_minor": 2
}
